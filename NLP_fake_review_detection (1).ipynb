{
  "nbformat": 4,
  "nbformat_minor": 0,
  "metadata": {
    "colab": {
      "name": "NLP fake review detection.ipynb",
      "provenance": [],
      "collapsed_sections": []
    },
    "kernelspec": {
      "name": "python3",
      "display_name": "Python 3"
    },
    "language_info": {
      "name": "python"
    }
  },
  "cells": [
    {
      "cell_type": "markdown",
      "source": [
        "DETECT FAKE REVIEWS "
      ],
      "metadata": {
        "id": "hNmb0O36iUk1"
      }
    },
    {
      "cell_type": "code",
      "metadata": {
        "colab": {
          "base_uri": "https://localhost:8080/"
        },
        "id": "Rt3aI91yJk03",
        "outputId": "496aaf8f-1134-4c61-ad5d-9c75093ed5fc"
      },
      "source": [
        "!pip install nlppreprocess\n",
        "!pip install nltk"
      ],
      "execution_count": null,
      "outputs": [
        {
          "output_type": "stream",
          "name": "stdout",
          "text": [
            "Collecting nlppreprocess\n",
            "  Downloading nlppreprocess-1.0.2-py3-none-any.whl (5.1 kB)\n",
            "Installing collected packages: nlppreprocess\n",
            "Successfully installed nlppreprocess-1.0.2\n",
            "Requirement already satisfied: nltk in /usr/local/lib/python3.7/dist-packages (3.2.5)\n",
            "Requirement already satisfied: six in /usr/local/lib/python3.7/dist-packages (from nltk) (1.15.0)\n"
          ]
        }
      ]
    },
    {
      "cell_type": "code",
      "metadata": {
        "colab": {
          "base_uri": "https://localhost:8080/"
        },
        "id": "uWIooE9PNhJa",
        "outputId": "150568ad-e544-4e32-e595-5600750c4519"
      },
      "source": [
        "import nltk\n",
        "nltk.download(\"wordnet\")"
      ],
      "execution_count": null,
      "outputs": [
        {
          "output_type": "stream",
          "name": "stdout",
          "text": [
            "[nltk_data] Downloading package wordnet to /root/nltk_data...\n",
            "[nltk_data]   Unzipping corpora/wordnet.zip.\n"
          ]
        },
        {
          "output_type": "execute_result",
          "data": {
            "text/plain": [
              "True"
            ]
          },
          "metadata": {},
          "execution_count": 2
        }
      ]
    },
    {
      "cell_type": "code",
      "metadata": {
        "id": "M0X-FNzLIsjS"
      },
      "source": [
        "import pandas as pd\n",
        "import numpy as np\n",
        "from scipy.sparse import  hstack\n",
        "import matplotlib.pyplot as plt\n",
        "import seaborn as sns\n",
        "%matplotlib inline\n",
        "import re"
      ],
      "execution_count": null,
      "outputs": []
    },
    {
      "cell_type": "code",
      "metadata": {
        "id": "FvVB2BWCI4em"
      },
      "source": [
        "contractions_dict={\n",
        "    \"ain't\": \"are not\",\"aren't\": \"are not\",\"can't\": \"can not\", \"can't've\": \"can not have\",\n",
        "    \"'cause\": \"because\",\n",
        "    \"could've\": \"could have\",\n",
        "    \"couldn't\": \"could not\",\n",
        "    \"couldn't've\": \"could not have\",\n",
        "    \"didn't\": \"did not\",\n",
        "    \"doesn't\": \"does not\",\n",
        "    \"don't\": \"do not\",\"hadn't\": \"had not\",\n",
        "    \"hadn't've\": \"had not have\",  \"hasn't\": \"has not\",\n",
        "    \"haven't\": \"have not\",  \"he'd\": \"he would\",\n",
        "    \"he'd've\": \"he would have\",\n",
        "    \"he'll\": \"he will\",\n",
        "    \"he'll've\": \"he will have\",\n",
        "    \"he's\": \"he is\",\n",
        "    \"how'd\": \"how did\",\n",
        "    \"how're\": \"how are\",\n",
        "    \"how'd'y\": \"how do you\",\n",
        "    \"how'll\": \"how will\",\n",
        "    \"how's\": \"how is\",\n",
        "    \"I'd\": \"I would\",\n",
        "    \"I'd've\": \"I would have\",\n",
        "    \"I'll\": \"I will\",\n",
        "    \"I'll've\": \"I will have\",\n",
        "    \"I'm\": \"I am\",\n",
        "    \"I've\": \"I have\",\n",
        "    \"isn't\": \"is not\",\n",
        "    \"it'd\": \"it would\",\n",
        "    \"it'd've\": \"it would have\",\n",
        "    \"it'll\": \"it will\",\n",
        "    \"it'll've\": \"it will have\",\n",
        "    \"it's\": \"it is\",\n",
        "    \"let's\": \"let us\",\n",
        "    \"ma'am\": \"madam\",\n",
        "    \"mayn't\": \"may not\",\n",
        "    \"might've\": \"might have\",\n",
        "    \"mightn't\": \"might not\",\n",
        "    \"mightn't've\": \"might not have\",\n",
        "    \"must've\": \"must have\",\n",
        "    \"mustn't\": \"must not\",\n",
        "    \"mustn't've\": \"must not have\",\n",
        "    \"needn't\": \"need not\",\n",
        "    \"needn't've\": \"need not have\",\n",
        "    \"o'clock\": \"of the clock\",  \"oughtn't\": \"ought not\",\n",
        "    \"oughtn't've\": \"ought not have\", \"shan't\": \"shall not\",\n",
        "    \"sha'n't\": \"shall not\",\n",
        "    \"shan't've\": \"shall not have\", \"she'd\": \"she would\",\n",
        "    \"she'd've\": \"she would have\",\n",
        "    \"she'll\": \"she will\", \"she'll've\": \"she will have\",\n",
        "    \"she's\": \"she is\",\n",
        "    \"should've\": \"should have\",\"shouldn't\": \"should not\",\n",
        "    \"shouldn't've\": \"should not have\",\n",
        "    \"so've\": \"so have\", \"so's\": \"so is\",\n",
        "    \"that'd\": \"that would\", \"that'd've\": \"that would have\",\n",
        "    \"that's\": \"that is\",\n",
        "    \"there'd\": \"there would\",\n",
        "    \"there'd've\": \"there would have\",\n",
        "    \"there's\": \"there is\",\n",
        "    \"they'd\": \"they would\",\n",
        "    \"they'd've\": \"they would have\",\n",
        "    \"they'll\": \"they will\",\n",
        "    \"they'll've\": \"they will have\",\n",
        "    \"they're\": \"they are\",\n",
        "    \"they've\": \"they have\",\n",
        "    \"to've\": \"to have\",\n",
        "    \"wasn't\": \"was not\",\n",
        "    \"we'd\": \"we would\",\n",
        "    \"we'd've\": \"we would have\",\n",
        "    \"we'll\": \"we will\",\n",
        "    \"we'll've\": \"we will have\",\n",
        "    \"we're\": \"we are\",\n",
        "    \"we've\": \"we have\",\n",
        "    \"weren't\": \"were not\",\n",
        "    \"what'll\": \"what will\",\n",
        "    \"what'll've\": \"what will have\",\n",
        "    \"what're\": \"what are\",\n",
        "    \"what's\": \"what is\",\n",
        "    \"what've\": \"what have\",\n",
        "    \"when's\": \"when is\",\n",
        "    \"when've\": \"when have\",\n",
        "    \"where'd\": \"where did\",\n",
        "    \"where's\": \"where is\",\n",
        "    \"where've\": \"where have\",\n",
        "    \"who'll\": \"who will\",\n",
        "    \"who'll've\": \"who will have\",\n",
        "    \"who's\": \"who is\",\n",
        "    \"who've\": \"who have\",\n",
        "    \"why's\": \"why is\",\n",
        "    \"why've\": \"why have\",\n",
        "    \"will've\": \"will have\",\n",
        "    \"won't\": \"will not\",\n",
        "    \"won't've\": \"will not have\",\n",
        "    \"would've\": \"would have\",\n",
        "    \"wouldn't\": \"would not\",\n",
        "    \"wouldn't've\": \"would not have\",\n",
        "    \"y'all\": \"you all\",\n",
        "    \"y'all'd\": \"you all would\",\n",
        "    \"y'all'd've\": \"you all would have\",\n",
        "    \"y'all're\": \"you all are\",\n",
        "    \"y'all've\": \"you all have\",\n",
        "    \"you'd\": \"you would\",\n",
        "    \"you'd've\": \"you would have\",\n",
        "    \"you'll\": \"you will\",\n",
        "    \"you'll've\": \"you shall have\",\n",
        "    \"you're\": \"you are\",\n",
        "    \"you've\": \"you have\"\n",
        "}"
      ],
      "execution_count": null,
      "outputs": []
    },
    {
      "cell_type": "code",
      "metadata": {
        "colab": {
          "base_uri": "https://localhost:8080/",
          "height": 501
        },
        "id": "0Zo6mY7wJCgx",
        "outputId": "a53b0052-b7a6-4ef5-f4a7-68a1c0c124c8"
      },
      "source": [
        "\n",
        "df=pd.read_csv(\"/content/selected.txt\",delimiter=\"\\t\")\n",
        "df.head()"
      ],
      "execution_count": null,
      "outputs": [
        {
          "output_type": "execute_result",
          "data": {
            "text/html": [
              "<div>\n",
              "<style scoped>\n",
              "    .dataframe tbody tr th:only-of-type {\n",
              "        vertical-align: middle;\n",
              "    }\n",
              "\n",
              "    .dataframe tbody tr th {\n",
              "        vertical-align: top;\n",
              "    }\n",
              "\n",
              "    .dataframe thead th {\n",
              "        text-align: right;\n",
              "    }\n",
              "</style>\n",
              "<table border=\"1\" class=\"dataframe\">\n",
              "  <thead>\n",
              "    <tr style=\"text-align: right;\">\n",
              "      <th></th>\n",
              "      <th>DOC_ID</th>\n",
              "      <th>LABEL</th>\n",
              "      <th>RATING</th>\n",
              "      <th>VERIFIED_PURCHASE</th>\n",
              "      <th>PRODUCT_CATEGORY</th>\n",
              "      <th>PRODUCT_ID</th>\n",
              "      <th>PRODUCT_TITLE</th>\n",
              "      <th>REVIEW_TITLE</th>\n",
              "      <th>REVIEW_TEXT</th>\n",
              "    </tr>\n",
              "  </thead>\n",
              "  <tbody>\n",
              "    <tr>\n",
              "      <th>0</th>\n",
              "      <td>1</td>\n",
              "      <td>__label1__</td>\n",
              "      <td>4</td>\n",
              "      <td>N</td>\n",
              "      <td>PC</td>\n",
              "      <td>B00008NG7N</td>\n",
              "      <td>Targus PAUK10U Ultra Mini USB Keypad, Black</td>\n",
              "      <td>useful</td>\n",
              "      <td>When least you think so, this product will sav...</td>\n",
              "    </tr>\n",
              "    <tr>\n",
              "      <th>1</th>\n",
              "      <td>2</td>\n",
              "      <td>__label1__</td>\n",
              "      <td>4</td>\n",
              "      <td>Y</td>\n",
              "      <td>Wireless</td>\n",
              "      <td>B00LH0Y3NM</td>\n",
              "      <td>Note 3 Battery : Stalion Strength Replacement ...</td>\n",
              "      <td>New era for batteries</td>\n",
              "      <td>Lithium batteries are something new introduced...</td>\n",
              "    </tr>\n",
              "    <tr>\n",
              "      <th>2</th>\n",
              "      <td>3</td>\n",
              "      <td>__label1__</td>\n",
              "      <td>3</td>\n",
              "      <td>N</td>\n",
              "      <td>Baby</td>\n",
              "      <td>B000I5UZ1Q</td>\n",
              "      <td>Fisher-Price Papasan Cradle Swing, Starlight</td>\n",
              "      <td>doesn't swing very well.</td>\n",
              "      <td>I purchased this swing for my baby. She is 6 m...</td>\n",
              "    </tr>\n",
              "    <tr>\n",
              "      <th>3</th>\n",
              "      <td>4</td>\n",
              "      <td>__label1__</td>\n",
              "      <td>4</td>\n",
              "      <td>N</td>\n",
              "      <td>Office Products</td>\n",
              "      <td>B003822IRA</td>\n",
              "      <td>Casio MS-80B Standard Function Desktop Calculator</td>\n",
              "      <td>Great computing!</td>\n",
              "      <td>I was looking for an inexpensive desk calcolat...</td>\n",
              "    </tr>\n",
              "    <tr>\n",
              "      <th>4</th>\n",
              "      <td>5</td>\n",
              "      <td>__label1__</td>\n",
              "      <td>4</td>\n",
              "      <td>N</td>\n",
              "      <td>Beauty</td>\n",
              "      <td>B00PWSAXAM</td>\n",
              "      <td>Shine Whitening - Zero Peroxide Teeth Whitenin...</td>\n",
              "      <td>Only use twice a week</td>\n",
              "      <td>I only use it twice a week and the results are...</td>\n",
              "    </tr>\n",
              "  </tbody>\n",
              "</table>\n",
              "</div>"
            ],
            "text/plain": [
              "   DOC_ID  ...                                        REVIEW_TEXT\n",
              "0       1  ...  When least you think so, this product will sav...\n",
              "1       2  ...  Lithium batteries are something new introduced...\n",
              "2       3  ...  I purchased this swing for my baby. She is 6 m...\n",
              "3       4  ...  I was looking for an inexpensive desk calcolat...\n",
              "4       5  ...  I only use it twice a week and the results are...\n",
              "\n",
              "[5 rows x 9 columns]"
            ]
          },
          "metadata": {},
          "execution_count": 5
        }
      ]
    },
    {
      "cell_type": "code",
      "metadata": {
        "id": "3fDCd__GJKNi"
      },
      "source": [
        "df[\"LABEL\"]=df[\"LABEL\"].replace(['__label2__','__label1__'],['0','1'])\n",
        "df[\"LABEL\"]=df[\"LABEL\"].astype(np.float32)\n",
        "dfs=df[[\"REVIEW_TEXT\",\"LABEL\",\"PRODUCT_CATEGORY\",\"VERIFIED_PURCHASE\",\"RATING\",\"REVIEW_TITLE\"]]\n",
        "dfs = dfs.rename(columns={'REVIEW_TEXT': 'reviews',\"LABEL\":\"label\",\"VERIFIED_PURCHASE\":\"verify\",\"REVIEW_TITLE\":\"title\"})"
      ],
      "execution_count": null,
      "outputs": []
    },
    {
      "cell_type": "code",
      "metadata": {
        "colab": {
          "base_uri": "https://localhost:8080/",
          "height": 206
        },
        "id": "KmJ--UB_JRN6",
        "outputId": "4fa88702-9ac6-47d1-cdc7-99908c549c8f"
      },
      "source": [
        "dfs.head()"
      ],
      "execution_count": null,
      "outputs": [
        {
          "output_type": "execute_result",
          "data": {
            "text/html": [
              "<div>\n",
              "<style scoped>\n",
              "    .dataframe tbody tr th:only-of-type {\n",
              "        vertical-align: middle;\n",
              "    }\n",
              "\n",
              "    .dataframe tbody tr th {\n",
              "        vertical-align: top;\n",
              "    }\n",
              "\n",
              "    .dataframe thead th {\n",
              "        text-align: right;\n",
              "    }\n",
              "</style>\n",
              "<table border=\"1\" class=\"dataframe\">\n",
              "  <thead>\n",
              "    <tr style=\"text-align: right;\">\n",
              "      <th></th>\n",
              "      <th>reviews</th>\n",
              "      <th>label</th>\n",
              "      <th>PRODUCT_CATEGORY</th>\n",
              "      <th>verify</th>\n",
              "      <th>RATING</th>\n",
              "      <th>title</th>\n",
              "    </tr>\n",
              "  </thead>\n",
              "  <tbody>\n",
              "    <tr>\n",
              "      <th>0</th>\n",
              "      <td>When least you think so, this product will sav...</td>\n",
              "      <td>1.0</td>\n",
              "      <td>PC</td>\n",
              "      <td>N</td>\n",
              "      <td>4</td>\n",
              "      <td>useful</td>\n",
              "    </tr>\n",
              "    <tr>\n",
              "      <th>1</th>\n",
              "      <td>Lithium batteries are something new introduced...</td>\n",
              "      <td>1.0</td>\n",
              "      <td>Wireless</td>\n",
              "      <td>Y</td>\n",
              "      <td>4</td>\n",
              "      <td>New era for batteries</td>\n",
              "    </tr>\n",
              "    <tr>\n",
              "      <th>2</th>\n",
              "      <td>I purchased this swing for my baby. She is 6 m...</td>\n",
              "      <td>1.0</td>\n",
              "      <td>Baby</td>\n",
              "      <td>N</td>\n",
              "      <td>3</td>\n",
              "      <td>doesn't swing very well.</td>\n",
              "    </tr>\n",
              "    <tr>\n",
              "      <th>3</th>\n",
              "      <td>I was looking for an inexpensive desk calcolat...</td>\n",
              "      <td>1.0</td>\n",
              "      <td>Office Products</td>\n",
              "      <td>N</td>\n",
              "      <td>4</td>\n",
              "      <td>Great computing!</td>\n",
              "    </tr>\n",
              "    <tr>\n",
              "      <th>4</th>\n",
              "      <td>I only use it twice a week and the results are...</td>\n",
              "      <td>1.0</td>\n",
              "      <td>Beauty</td>\n",
              "      <td>N</td>\n",
              "      <td>4</td>\n",
              "      <td>Only use twice a week</td>\n",
              "    </tr>\n",
              "  </tbody>\n",
              "</table>\n",
              "</div>"
            ],
            "text/plain": [
              "                                             reviews  ...                     title\n",
              "0  When least you think so, this product will sav...  ...                    useful\n",
              "1  Lithium batteries are something new introduced...  ...     New era for batteries\n",
              "2  I purchased this swing for my baby. She is 6 m...  ...  doesn't swing very well.\n",
              "3  I was looking for an inexpensive desk calcolat...  ...          Great computing!\n",
              "4  I only use it twice a week and the results are...  ...     Only use twice a week\n",
              "\n",
              "[5 rows x 6 columns]"
            ]
          },
          "metadata": {},
          "execution_count": 7
        }
      ]
    },
    {
      "cell_type": "code",
      "metadata": {
        "colab": {
          "base_uri": "https://localhost:8080/"
        },
        "id": "klROvXbBJTFe",
        "outputId": "074757f5-2751-42d9-bbfa-6be6227c0207"
      },
      "source": [
        "dfs[\"verify\"]=dfs[\"verify\"].replace(['N','Y'],['0','1'])\n",
        "dfs[\"RATING\"].value_counts()"
      ],
      "execution_count": null,
      "outputs": [
        {
          "output_type": "execute_result",
          "data": {
            "text/plain": [
              "5    12210\n",
              "4     3973\n",
              "3     1868\n",
              "1     1757\n",
              "2     1192\n",
              "Name: RATING, dtype: int64"
            ]
          },
          "metadata": {},
          "execution_count": 8
        }
      ]
    },
    {
      "cell_type": "code",
      "metadata": {
        "colab": {
          "base_uri": "https://localhost:8080/"
        },
        "id": "fxr11h57JtAH",
        "outputId": "7f8e607c-9e83-4b5c-9df2-29f878c5ddf7"
      },
      "source": [
        "dfs[\"label\"].value_counts()"
      ],
      "execution_count": null,
      "outputs": [
        {
          "output_type": "execute_result",
          "data": {
            "text/plain": [
              "0.0    10500\n",
              "1.0    10500\n",
              "Name: label, dtype: int64"
            ]
          },
          "metadata": {},
          "execution_count": 9
        }
      ]
    },
    {
      "cell_type": "code",
      "metadata": {
        "colab": {
          "base_uri": "https://localhost:8080/"
        },
        "id": "t5jC2FrTJdCK",
        "outputId": "5097a24e-a74f-43b1-e12e-b5c681f8d8ec"
      },
      "source": [
        "dfs.info()"
      ],
      "execution_count": null,
      "outputs": [
        {
          "output_type": "stream",
          "name": "stdout",
          "text": [
            "<class 'pandas.core.frame.DataFrame'>\n",
            "RangeIndex: 21000 entries, 0 to 20999\n",
            "Data columns (total 6 columns):\n",
            " #   Column            Non-Null Count  Dtype  \n",
            "---  ------            --------------  -----  \n",
            " 0   reviews           21000 non-null  object \n",
            " 1   label             21000 non-null  float32\n",
            " 2   PRODUCT_CATEGORY  21000 non-null  object \n",
            " 3   verify            21000 non-null  object \n",
            " 4   RATING            21000 non-null  int64  \n",
            " 5   title             21000 non-null  object \n",
            "dtypes: float32(1), int64(1), object(4)\n",
            "memory usage: 902.5+ KB\n"
          ]
        }
      ]
    },
    {
      "cell_type": "code",
      "metadata": {
        "colab": {
          "base_uri": "https://localhost:8080/"
        },
        "id": "WxlbdBZpJeY_",
        "outputId": "d708c30f-ef40-43d7-958f-9cef015f0cfd"
      },
      "source": [
        "def preprocess_text(sen):\n",
        "    # Removing html tags\n",
        "    sentence = remove_tags(sen)\n",
        "\n",
        "    # Remove punctuations and numbers\n",
        "    sentence = re.sub('[^a-zA-Z]', ' ', sentence)\n",
        "\n",
        "    # Single character removal\n",
        "    sentence = re.sub(r\"\\s+[a-zA-Z]\\s+\", ' ', sentence)\n",
        "\n",
        "    # Removing multiple spaces\n",
        "    sentence = re.sub(r'\\s+', ' ', sentence)\n",
        "\n",
        "    return sentence\n",
        "TAG_RE = re.compile(r'<[^>]+>')\n",
        "\n",
        "def remove_tags(text):\n",
        "    return TAG_RE.sub('', text)\n",
        "           \n",
        "from nlppreprocess import NLP\n",
        "NLP=NLP\n",
        "obj=NLP(remove_stopwords=True,remove_numbers=True,replace_words=True,lemmatize=True,\n",
        "    lemmatize_method='wordnet')\n",
        "contractions_re = re.compile('(%s)' % '|'.join(contractions_dict.keys()))\n",
        "def expand_contractions(s, contractions_dict=contractions_dict):\n",
        "     def replace(match):\n",
        "        return contractions_dict[match.group(0)]\n",
        "     return contractions_re.sub(replace, s)\n",
        "\n",
        "dfs[\"reviews\"]=dfs[\"reviews\"].str.lower()\n",
        "for i in range(  len(dfs[\"reviews\"])):\n",
        "    dfs[\"reviews\"][i]=expand_contractions(str(dfs[\"reviews\"][i]))\n",
        "dfs[\"reviews\"]=dfs[\"reviews\"].apply(preprocess_text)\n",
        "dfs[\"reviews\"]=dfs[\"reviews\"].apply(remove_tags)\n",
        "dfs[\"reviews\"]=dfs[\"reviews\"].apply(obj.process)"
      ],
      "execution_count": null,
      "outputs": [
        {
          "output_type": "stream",
          "name": "stderr",
          "text": [
            "/usr/local/lib/python3.7/dist-packages/ipykernel_launcher.py:32: SettingWithCopyWarning: \n",
            "A value is trying to be set on a copy of a slice from a DataFrame\n",
            "\n",
            "See the caveats in the documentation: https://pandas.pydata.org/pandas-docs/stable/user_guide/indexing.html#returning-a-view-versus-a-copy\n"
          ]
        }
      ]
    },
    {
      "cell_type": "code",
      "metadata": {
        "id": "oJPKxFbYKE-U"
      },
      "source": [
        "dfs[\"len_review\"]=dfs[\"reviews\"].apply(lambda x :len(x.split()))"
      ],
      "execution_count": null,
      "outputs": []
    },
    {
      "cell_type": "code",
      "metadata": {
        "colab": {
          "base_uri": "https://localhost:8080/"
        },
        "id": "QIsASheSLyvV",
        "outputId": "b83d80db-33b2-4700-9cf4-22afd64cfaaf"
      },
      "source": [
        "c=0\n",
        "for i in dfs[\"len_review\"]:\n",
        "    if 100<i:\n",
        "      c+=1\n",
        "print(c)"
      ],
      "execution_count": null,
      "outputs": [
        {
          "output_type": "stream",
          "name": "stdout",
          "text": [
            "1732\n"
          ]
        }
      ]
    },
    {
      "cell_type": "code",
      "metadata": {
        "colab": {
          "base_uri": "https://localhost:8080/"
        },
        "id": "u4DzZHgsLzUH",
        "outputId": "2fdc7503-a539-4552-95ba-260d832a2844"
      },
      "source": [
        "dfs.info()"
      ],
      "execution_count": null,
      "outputs": [
        {
          "output_type": "stream",
          "name": "stdout",
          "text": [
            "<class 'pandas.core.frame.DataFrame'>\n",
            "RangeIndex: 21000 entries, 0 to 20999\n",
            "Data columns (total 7 columns):\n",
            " #   Column            Non-Null Count  Dtype  \n",
            "---  ------            --------------  -----  \n",
            " 0   reviews           21000 non-null  object \n",
            " 1   label             21000 non-null  float32\n",
            " 2   PRODUCT_CATEGORY  21000 non-null  object \n",
            " 3   verify            21000 non-null  object \n",
            " 4   RATING            21000 non-null  int64  \n",
            " 5   title             21000 non-null  object \n",
            " 6   len_review        21000 non-null  int64  \n",
            "dtypes: float32(1), int64(2), object(4)\n",
            "memory usage: 1.0+ MB\n"
          ]
        }
      ]
    },
    {
      "cell_type": "code",
      "metadata": {
        "colab": {
          "base_uri": "https://localhost:8080/"
        },
        "id": "Dy_Hq6RWL1L3",
        "outputId": "8ea691be-e0ab-413c-be21-4758272f6051"
      },
      "source": [
        "dfse=dfs[dfs[\"len_review\"]<100]\n",
        "dfse.reset_index(drop=True,inplace=True)\n",
        "dfse[\"label\"]=dfse[\"label\"].astype(np.int64)\n",
        "dfse.info()"
      ],
      "execution_count": null,
      "outputs": [
        {
          "output_type": "stream",
          "name": "stdout",
          "text": [
            "<class 'pandas.core.frame.DataFrame'>\n",
            "RangeIndex: 19242 entries, 0 to 19241\n",
            "Data columns (total 7 columns):\n",
            " #   Column            Non-Null Count  Dtype \n",
            "---  ------            --------------  ----- \n",
            " 0   reviews           19242 non-null  object\n",
            " 1   label             19242 non-null  int64 \n",
            " 2   PRODUCT_CATEGORY  19242 non-null  object\n",
            " 3   verify            19242 non-null  object\n",
            " 4   RATING            19242 non-null  int64 \n",
            " 5   title             19242 non-null  object\n",
            " 6   len_review        19242 non-null  int64 \n",
            "dtypes: int64(3), object(4)\n",
            "memory usage: 1.0+ MB\n"
          ]
        },
        {
          "output_type": "stream",
          "name": "stderr",
          "text": [
            "/usr/local/lib/python3.7/dist-packages/ipykernel_launcher.py:3: SettingWithCopyWarning: \n",
            "A value is trying to be set on a copy of a slice from a DataFrame.\n",
            "Try using .loc[row_indexer,col_indexer] = value instead\n",
            "\n",
            "See the caveats in the documentation: https://pandas.pydata.org/pandas-docs/stable/user_guide/indexing.html#returning-a-view-versus-a-copy\n",
            "  This is separate from the ipykernel package so we can avoid doing imports until\n"
          ]
        }
      ]
    },
    {
      "cell_type": "code",
      "metadata": {
        "id": "CZyI_w6gMAs0"
      },
      "source": [
        "from sklearn import model_selection\n",
        "from sklearn.feature_extraction.text import TfidfVectorizer \n",
        "from sklearn import  naive_bayes ,svm\n",
        "from sklearn.metrics import accuracy_score\n",
        "import scipy as sp"
      ],
      "execution_count": null,
      "outputs": []
    },
    {
      "cell_type": "code",
      "metadata": {
        "id": "x3h-5imBRbz2"
      },
      "source": [
        "Train_X, Test_X, Train_Y, Test_Y = model_selection.train_test_split(dfse[[\"reviews\",\"title\",\"verify\"]],dfse[\"label\"],test_size=0.2)"
      ],
      "execution_count": null,
      "outputs": []
    },
    {
      "cell_type": "code",
      "metadata": {
        "id": "ZOPWjrW7MLhC"
      },
      "source": [
        "Tfidf_vect = TfidfVectorizer(max_features=5000,ngram_range=(2,2))\n",
        "Trained_Tfidf_vect = Tfidf_vect.fit(Train_X[\"reviews\"].values)\n",
        "\n",
        "Train_X_Tfidf = Trained_Tfidf_vect.transform(Train_X[\"reviews\"].values)\n",
        "Test_X_Tfidf = Trained_Tfidf_vect.transform(Test_X[\"reviews\"].values)"
      ],
      "execution_count": null,
      "outputs": []
    },
    {
      "cell_type": "code",
      "metadata": {
        "colab": {
          "base_uri": "https://localhost:8080/"
        },
        "id": "boowdf0GMMUU",
        "outputId": "19c8263d-f10f-4210-c53b-0c47713e1830"
      },
      "source": [
        "print (Train_X['reviews'].shape, '\\n')"
      ],
      "execution_count": null,
      "outputs": [
        {
          "output_type": "stream",
          "name": "stdout",
          "text": [
            "(15393,) \n",
            "\n"
          ]
        }
      ]
    },
    {
      "cell_type": "code",
      "metadata": {
        "colab": {
          "base_uri": "https://localhost:8080/"
        },
        "id": "Ky4309z-MPdb",
        "outputId": "8424135e-83ff-46a6-96cc-5e429391076a"
      },
      "source": [
        "Train_VP_Column = [ [vp] for vp in Train_X[\"verify\"].values ]\n",
        "print (\"sample vp column:\", Train_VP_Column[:4])\n",
        "Train_VP_Column = np.array(Train_VP_Column)\n",
        "print (Train_VP_Column.shape)"
      ],
      "execution_count": null,
      "outputs": [
        {
          "output_type": "stream",
          "name": "stdout",
          "text": [
            "sample vp column: [['0'], ['1'], ['0'], ['1']]\n",
            "(15393, 1)\n"
          ]
        }
      ]
    },
    {
      "cell_type": "code",
      "metadata": {
        "colab": {
          "base_uri": "https://localhost:8080/"
        },
        "id": "yHOCvIeXMP_D",
        "outputId": "d3bfd513-4ffb-497a-aee2-e86065b8b2e9"
      },
      "source": [
        "New_Train_X_Tfidf = sp.sparse.hstack((Train_X_Tfidf,Train_VP_Column.astype(float)))  # adding \"VERIFIED_PURCHASE\" to the Input\n",
        "print (New_Train_X_Tfidf.shape)"
      ],
      "execution_count": null,
      "outputs": [
        {
          "output_type": "stream",
          "name": "stdout",
          "text": [
            "(15393, 5001)\n"
          ]
        }
      ]
    },
    {
      "cell_type": "code",
      "metadata": {
        "id": "Rd-VTO2xMRpf"
      },
      "source": [
        "Test_VP_Column = [ [vp] for vp in Test_X[\"verify\"].values ] \n",
        "Test_VP_Column = np.array(Test_VP_Column)\n",
        "New_Test_X_Tfidf = hstack((Test_X_Tfidf, Test_VP_Column.astype(float)))"
      ],
      "execution_count": null,
      "outputs": []
    },
    {
      "cell_type": "code",
      "metadata": {
        "id": "kKxyUUm_D_aD",
        "colab": {
          "base_uri": "https://localhost:8080/"
        },
        "outputId": "074cd6c6-344a-4333-9314-624623547bf8"
      },
      "source": [
        "print(Test_X_Tfidf.shape)\n",
        "print(Test_VP_Column.shape)"
      ],
      "execution_count": null,
      "outputs": [
        {
          "output_type": "stream",
          "name": "stdout",
          "text": [
            "(3849, 5000)\n",
            "(3849, 1)\n"
          ]
        }
      ]
    },
    {
      "cell_type": "code",
      "metadata": {
        "colab": {
          "base_uri": "https://localhost:8080/"
        },
        "id": "AwJ3lZCUMT1C",
        "outputId": "09f7d97d-9228-4185-f60a-0f5c2e7cfd4d"
      },
      "source": [
        "svmmodel= svm.SVC(C=1.0, kernel='linear', degree=3, gamma='auto')\n",
        "svmmodel.fit(New_Train_X_Tfidf, Train_Y)\n",
        "\n",
        "predictions_SVM = svmmodel.predict(New_Test_X_Tfidf)\n",
        "print(\"SVM Accuracy Score:\", accuracy_score(predictions_SVM, Test_Y)*100)"
      ],
      "execution_count": null,
      "outputs": [
        {
          "output_type": "stream",
          "name": "stdout",
          "text": [
            "SVM Accuracy Score: 80.74824629773967\n"
          ]
        }
      ]
    },
    {
      "cell_type": "code",
      "metadata": {
        "colab": {
          "base_uri": "https://localhost:8080/"
        },
        "id": "TyY0JBxs-yU5",
        "outputId": "05ebfd11-366e-44a0-e256-9c6c63924db8"
      },
      "source": [
        "from sklearn.linear_model import LogisticRegression\n",
        "logmodel=LogisticRegression()\n",
        "logmodel.fit(New_Train_X_Tfidf, Train_Y)\n",
        "predictions_log = logmodel.predict(New_Test_X_Tfidf)\n",
        "print(\"Logistic Accuracy Score:\", accuracy_score(predictions_log, Test_Y)*100)"
      ],
      "execution_count": null,
      "outputs": [
        {
          "output_type": "stream",
          "name": "stdout",
          "text": [
            "Logistic Accuracy Score: 81.00805404001039\n"
          ]
        }
      ]
    },
    {
      "cell_type": "code",
      "metadata": {
        "colab": {
          "base_uri": "https://localhost:8080/"
        },
        "id": "J18OEdabQpvD",
        "outputId": "40fbb367-8d31-4c92-f1b5-6f50ae9e9048"
      },
      "source": [
        "from sklearn.ensemble import RandomForestClassifier  \n",
        "classifier= RandomForestClassifier(n_estimators= 10, criterion=\"entropy\")  \n",
        "classifier.fit(New_Train_X_Tfidf, Train_Y)\n",
        "predictions_log = classifier.predict(New_Test_X_Tfidf)\n",
        "print(\"Random Forest Accuracy Score:\", accuracy_score(predictions_log, Test_Y)*100)"
      ],
      "execution_count": null,
      "outputs": [
        {
          "output_type": "stream",
          "name": "stdout",
          "text": [
            "Random Forest Accuracy Score: 78.51389971421149\n"
          ]
        }
      ]
    },
    {
      "cell_type": "code",
      "metadata": {
        "colab": {
          "base_uri": "https://localhost:8080/"
        },
        "id": "kVtTL02X_MXY",
        "outputId": "42b31b80-574a-4813-e471-87adf165d6b2"
      },
      "source": [
        "def testing(text,verify):\n",
        "  text=text.lower()\n",
        "  dftext=pd.DataFrame({'review':[text],'verify':[verify]})\n",
        "  dftext[\"verify\"]=dftext[\"verify\"].replace(['N','Y'],['1','0'])\n",
        "  #text=text.apply(preprocess_text)\n",
        "  #text=text.apply(remove_tags)\n",
        "  #text=text.apply(obj.process)\n",
        "  tf_text=Tfidf_vect.transform(dftext['review'])\n",
        "  text_with_review=sp.sparse.hstack((tf_text,dftext['verify'].astype(int)))\n",
        "  #text_with_review=np.expand_dims(text_with_review,0)\n",
        "  prediction=svmmodel.predict(text_with_review)\n",
        "  for i in prediction:\n",
        "    if i==1:\n",
        "      print(\"True Review\")\n",
        "    elif i==0:\n",
        "      print(\"Fake Review\")\n",
        "testing('''This is  best product ever, I highly recommend any one reading this review to purchase one !''','Y')"
      ],
      "execution_count": null,
      "outputs": [
        {
          "output_type": "stream",
          "name": "stdout",
          "text": [
            "True Review\n"
          ]
        }
      ]
    }
  ]
}